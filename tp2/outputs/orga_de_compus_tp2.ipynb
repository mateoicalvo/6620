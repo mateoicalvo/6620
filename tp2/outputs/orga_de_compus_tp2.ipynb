{
 "cells": [
  {
   "cell_type": "code",
   "execution_count": 1,
   "metadata": {},
   "outputs": [],
   "source": [
    "import pandas as pd\n"
   ]
  },
  {
   "cell_type": "code",
   "execution_count": 6,
   "metadata": {},
   "outputs": [],
   "source": [
    "df_merge=pd.read_csv(\"merge.txt\", header=None ,delim_whitespace=True)"
   ]
  },
  {
   "cell_type": "code",
   "execution_count": 7,
   "metadata": {},
   "outputs": [
    {
     "data": {
      "text/plain": [
       "(4096, 17)"
      ]
     },
     "execution_count": 7,
     "metadata": {},
     "output_type": "execute_result"
    }
   ],
   "source": [
    "df_merge.shape"
   ]
  },
  {
   "cell_type": "code",
   "execution_count": 8,
   "metadata": {},
   "outputs": [
    {
     "data": {
      "text/html": [
       "<div>\n",
       "<style scoped>\n",
       "    .dataframe tbody tr th:only-of-type {\n",
       "        vertical-align: middle;\n",
       "    }\n",
       "\n",
       "    .dataframe tbody tr th {\n",
       "        vertical-align: top;\n",
       "    }\n",
       "\n",
       "    .dataframe thead th {\n",
       "        text-align: right;\n",
       "    }\n",
       "</style>\n",
       "<table border=\"1\" class=\"dataframe\">\n",
       "  <thead>\n",
       "    <tr style=\"text-align: right;\">\n",
       "      <th></th>\n",
       "      <th>0</th>\n",
       "      <th>1</th>\n",
       "      <th>2</th>\n",
       "      <th>3</th>\n",
       "      <th>4</th>\n",
       "      <th>5</th>\n",
       "      <th>6</th>\n",
       "      <th>7</th>\n",
       "      <th>8</th>\n",
       "      <th>9</th>\n",
       "      <th>10</th>\n",
       "      <th>11</th>\n",
       "      <th>12</th>\n",
       "      <th>13</th>\n",
       "      <th>14</th>\n",
       "      <th>15</th>\n",
       "      <th>16</th>\n",
       "    </tr>\n",
       "  </thead>\n",
       "  <tbody>\n",
       "    <tr>\n",
       "      <th>0</th>\n",
       "      <td>1</td>\n",
       "      <td>inputs/1.txt</td>\n",
       "      <td>clear_cache=no</td>\n",
       "      <td>src/mult/mmult_asm.S</td>\n",
       "      <td>--I1=32768,4,32</td>\n",
       "      <td>--D1=32768,1,32</td>\n",
       "      <td>57</td>\n",
       "      <td>7</td>\n",
       "      <td>7</td>\n",
       "      <td>3</td>\n",
       "      <td>0</td>\n",
       "      <td>0</td>\n",
       "      <td>7</td>\n",
       "      <td>0</td>\n",
       "      <td>0</td>\n",
       "      <td>events</td>\n",
       "      <td>annotated</td>\n",
       "    </tr>\n",
       "    <tr>\n",
       "      <th>1</th>\n",
       "      <td>2</td>\n",
       "      <td>inputs/2.txt</td>\n",
       "      <td>clear_cache=no</td>\n",
       "      <td>src/mult/mmult_asm.S</td>\n",
       "      <td>--I1=32768,4,32</td>\n",
       "      <td>--D1=32768,1,32</td>\n",
       "      <td>222</td>\n",
       "      <td>7</td>\n",
       "      <td>7</td>\n",
       "      <td>17</td>\n",
       "      <td>0</td>\n",
       "      <td>0</td>\n",
       "      <td>10</td>\n",
       "      <td>0</td>\n",
       "      <td>0</td>\n",
       "      <td>events</td>\n",
       "      <td>annotated</td>\n",
       "    </tr>\n",
       "    <tr>\n",
       "      <th>2</th>\n",
       "      <td>3</td>\n",
       "      <td>inputs/3.txt</td>\n",
       "      <td>clear_cache=no</td>\n",
       "      <td>src/mult/mmult_asm.S</td>\n",
       "      <td>--I1=32768,4,32</td>\n",
       "      <td>--D1=32768,1,32</td>\n",
       "      <td>609</td>\n",
       "      <td>7</td>\n",
       "      <td>7</td>\n",
       "      <td>55</td>\n",
       "      <td>0</td>\n",
       "      <td>0</td>\n",
       "      <td>15</td>\n",
       "      <td>0</td>\n",
       "      <td>0</td>\n",
       "      <td>events</td>\n",
       "      <td>annotated</td>\n",
       "    </tr>\n",
       "    <tr>\n",
       "      <th>3</th>\n",
       "      <td>4</td>\n",
       "      <td>inputs/4.txt</td>\n",
       "      <td>clear_cache=no</td>\n",
       "      <td>src/mult/mmult_asm.S</td>\n",
       "      <td>--I1=32768,4,32</td>\n",
       "      <td>--D1=32768,1,32</td>\n",
       "      <td>1,314</td>\n",
       "      <td>7</td>\n",
       "      <td>7</td>\n",
       "      <td>129</td>\n",
       "      <td>0</td>\n",
       "      <td>0</td>\n",
       "      <td>22</td>\n",
       "      <td>0</td>\n",
       "      <td>0</td>\n",
       "      <td>events</td>\n",
       "      <td>annotated</td>\n",
       "    </tr>\n",
       "    <tr>\n",
       "      <th>4</th>\n",
       "      <td>5</td>\n",
       "      <td>inputs/5.txt</td>\n",
       "      <td>clear_cache=no</td>\n",
       "      <td>src/mult/mmult_asm.S</td>\n",
       "      <td>--I1=32768,4,32</td>\n",
       "      <td>--D1=32768,1,32</td>\n",
       "      <td>2,433</td>\n",
       "      <td>7</td>\n",
       "      <td>7</td>\n",
       "      <td>251</td>\n",
       "      <td>0</td>\n",
       "      <td>0</td>\n",
       "      <td>31</td>\n",
       "      <td>1</td>\n",
       "      <td>0</td>\n",
       "      <td>events</td>\n",
       "      <td>annotated</td>\n",
       "    </tr>\n",
       "  </tbody>\n",
       "</table>\n",
       "</div>"
      ],
      "text/plain": [
       "   0             1               2                     3                4   \\\n",
       "0   1  inputs/1.txt  clear_cache=no  src/mult/mmult_asm.S  --I1=32768,4,32   \n",
       "1   2  inputs/2.txt  clear_cache=no  src/mult/mmult_asm.S  --I1=32768,4,32   \n",
       "2   3  inputs/3.txt  clear_cache=no  src/mult/mmult_asm.S  --I1=32768,4,32   \n",
       "3   4  inputs/4.txt  clear_cache=no  src/mult/mmult_asm.S  --I1=32768,4,32   \n",
       "4   5  inputs/5.txt  clear_cache=no  src/mult/mmult_asm.S  --I1=32768,4,32   \n",
       "\n",
       "                5      6  7  8    9  10 11  12 13 14      15         16  \n",
       "0  --D1=32768,1,32     57  7  7    3  0  0   7  0  0  events  annotated  \n",
       "1  --D1=32768,1,32    222  7  7   17  0  0  10  0  0  events  annotated  \n",
       "2  --D1=32768,1,32    609  7  7   55  0  0  15  0  0  events  annotated  \n",
       "3  --D1=32768,1,32  1,314  7  7  129  0  0  22  0  0  events  annotated  \n",
       "4  --D1=32768,1,32  2,433  7  7  251  0  0  31  1  0  events  annotated  "
      ]
     },
     "execution_count": 8,
     "metadata": {},
     "output_type": "execute_result"
    }
   ],
   "source": [
    "df_merge.head()"
   ]
  },
  {
   "cell_type": "code",
   "execution_count": 9,
   "metadata": {},
   "outputs": [
    {
     "data": {
      "text/plain": [
       "Int64Index([0, 1, 2, 3, 4, 5, 6, 7, 8, 9, 10, 11, 12, 13, 14, 15, 16], dtype='int64')"
      ]
     },
     "execution_count": 9,
     "metadata": {},
     "output_type": "execute_result"
    }
   ],
   "source": [
    "df_merge.columns"
   ]
  },
  {
   "cell_type": "code",
   "execution_count": 10,
   "metadata": {},
   "outputs": [],
   "source": [
    "df_merge.drop(labels=1,axis=1,inplace=True)"
   ]
  },
  {
   "cell_type": "code",
   "execution_count": 11,
   "metadata": {},
   "outputs": [
    {
     "data": {
      "text/plain": [
       "Int64Index([0, 2, 3, 4, 5, 6, 7, 8, 9, 10, 11, 12, 13, 14, 15, 16], dtype='int64')"
      ]
     },
     "execution_count": 11,
     "metadata": {},
     "output_type": "execute_result"
    }
   ],
   "source": [
    "df_merge.columns"
   ]
  },
  {
   "cell_type": "code",
   "execution_count": 12,
   "metadata": {},
   "outputs": [],
   "source": [
    "df_merge=df_merge.rename(columns={0:'dimension'})"
   ]
  },
  {
   "cell_type": "code",
   "execution_count": 13,
   "metadata": {},
   "outputs": [],
   "source": [
    "df_merge=df_merge.rename(columns={2:'estado_cache',3:'funcion_usada',4:'cache_instrucciones',5:'cache_datos'})"
   ]
  },
  {
   "cell_type": "code",
   "execution_count": 14,
   "metadata": {},
   "outputs": [],
   "source": [
    "df_merge=df_merge.rename(columns={6:'instructions_read',7:'I1_miss_reads',8:'IL_miss_reads',9:'Data_reads',10:'D1_miss_reads',11:'DL_miss_reads',12:'Data_writes',13:'D1_miss_writes',14:'DL_miss_writes'})"
   ]
  },
  {
   "cell_type": "code",
   "execution_count": 15,
   "metadata": {},
   "outputs": [],
   "source": [
    "df_merge.drop(labels=[15,16],axis=1,inplace=True)"
   ]
  },
  {
   "cell_type": "code",
   "execution_count": 16,
   "metadata": {},
   "outputs": [
    {
     "ename": "SyntaxError",
     "evalue": "invalid syntax (<ipython-input-16-949992796c69>, line 1)",
     "output_type": "error",
     "traceback": [
      "\u001b[1;36m  File \u001b[1;32m\"<ipython-input-16-949992796c69>\"\u001b[1;36m, line \u001b[1;32m1\u001b[0m\n\u001b[1;33m    df_merge[]\u001b[0m\n\u001b[1;37m             ^\u001b[0m\n\u001b[1;31mSyntaxError\u001b[0m\u001b[1;31m:\u001b[0m invalid syntax\n"
     ]
    }
   ],
   "source": [
    "df_merge[]"
   ]
  },
  {
   "cell_type": "code",
   "execution_count": 17,
   "metadata": {},
   "outputs": [],
   "source": [
    "#voy a llamar a los distintos dataframes de la siguiente forma\n",
    "#tipo_de_cache + funcion_usada+ cache_limpiado"
   ]
  },
  {
   "cell_type": "code",
   "execution_count": 18,
   "metadata": {},
   "outputs": [
    {
     "data": {
      "text/plain": [
       "<pandas.core.groupby.groupby.DataFrameGroupBy object at 0x000001D6B47C3D68>"
      ]
     },
     "execution_count": 18,
     "metadata": {},
     "output_type": "execute_result"
    }
   ],
   "source": [
    "df_merge.groupby(['cache_instrucciones','funcion_usada','cache_datos'])"
   ]
  },
  {
   "cell_type": "code",
   "execution_count": null,
   "metadata": {},
   "outputs": [],
   "source": []
  },
  {
   "cell_type": "code",
   "execution_count": 19,
   "metadata": {},
   "outputs": [],
   "source": [
    "#caso 1 direct mapped sin cache limpiado con la funcion asm.S\n",
    "df_sin_clear_cache=df_merge.loc[df_merge['estado_cache']=='clear_cache=no']"
   ]
  },
  {
   "cell_type": "code",
   "execution_count": 20,
   "metadata": {},
   "outputs": [],
   "source": [
    "df_con_clear_cache=df_merge.loc[df_merge['estado_cache']=='clear_cache=yes']"
   ]
  },
  {
   "cell_type": "code",
   "execution_count": 21,
   "metadata": {},
   "outputs": [],
   "source": [
    "df_sin_clear_cache_direct_mapped=df_sin_clear_cache.loc[df_sin_clear_cache['cache_datos']=='--D1=32768,1,32']"
   ]
  },
  {
   "cell_type": "code",
   "execution_count": 22,
   "metadata": {},
   "outputs": [],
   "source": [
    "df_sin_clear_cache_two_way=df_sin_clear_cache.loc[df_sin_clear_cache['cache_datos']=='--D1=32768,2,32']"
   ]
  },
  {
   "cell_type": "code",
   "execution_count": 23,
   "metadata": {},
   "outputs": [],
   "source": [
    "df_sin_clear_cache_four_way=df_sin_clear_cache.loc[df_sin_clear_cache['cache_datos']=='--D1=32768,4,32']"
   ]
  },
  {
   "cell_type": "code",
   "execution_count": 24,
   "metadata": {},
   "outputs": [],
   "source": [
    "df_sin_clear_cache_direct_mapped_mmult_asm=df_sin_clear_cache_direct_mapped.loc[df_sin_clear_cache_direct_mapped['funcion_usada']=='src/mult/mmult_asm.S']"
   ]
  },
  {
   "cell_type": "code",
   "execution_count": null,
   "metadata": {},
   "outputs": [],
   "source": []
  },
  {
   "cell_type": "code",
   "execution_count": null,
   "metadata": {},
   "outputs": [],
   "source": []
  }
 ],
 "metadata": {
  "kernelspec": {
   "display_name": "Python 3",
   "language": "python",
   "name": "python3"
  },
  "language_info": {
   "codemirror_mode": {
    "name": "ipython",
    "version": 3
   },
   "file_extension": ".py",
   "mimetype": "text/x-python",
   "name": "python",
   "nbconvert_exporter": "python",
   "pygments_lexer": "ipython3",
   "version": "3.7.1"
  }
 },
 "nbformat": 4,
 "nbformat_minor": 2
}
