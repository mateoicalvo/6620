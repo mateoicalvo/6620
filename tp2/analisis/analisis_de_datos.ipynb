{
 "cells": [
  {
   "cell_type": "markdown",
   "metadata": {},
   "source": [
    "## Imports"
   ]
  },
  {
   "cell_type": "code",
   "execution_count": 164,
   "metadata": {},
   "outputs": [],
   "source": [
    "import pandas as pd, seaborn as sns, numpy as np\n",
    "import matplotlib.pyplot as plt\n",
    "sns.set_theme(style=\"darkgrid\")"
   ]
  },
  {
   "cell_type": "markdown",
   "metadata": {},
   "source": [
    "---"
   ]
  },
  {
   "cell_type": "markdown",
   "metadata": {},
   "source": [
    "## Funciones auxiliares"
   ]
  },
  {
   "cell_type": "code",
   "execution_count": 165,
   "metadata": {},
   "outputs": [],
   "source": [
    "def quitar_coma(numero):\n",
    "     return numero.replace(\",\", \"\")\n",
    "    \n",
    "def asociatividad(flag):\n",
    "    asociatividades = {\n",
    "        \"--D1=32768,1,32\" : 0,\n",
    "        \"--D1=32768,2,32\" : 2,\n",
    "        \"--D1=32768,4,32\" : 4,\n",
    "        \"--D1=32768,1024,32\" : 1024\n",
    "    }\n",
    "    return asociatividades[flag]\n",
    "\n",
    "def algoritmo_utilizado(ruta):\n",
    "    if ruta == \"src/mult/mmult_asm.S\":\n",
    "        return \"mmult_asm\"\n",
    "    return \"mmult_c\"\n",
    "\n",
    "def es_clear_cache(flag):\n",
    "    if flag == \"clear_cache=yes\":\n",
    "        return True\n",
    "    return False"
   ]
  },
  {
   "cell_type": "markdown",
   "metadata": {},
   "source": [
    "---"
   ]
  },
  {
   "cell_type": "markdown",
   "metadata": {},
   "source": [
    "# Carga de datos"
   ]
  },
  {
   "cell_type": "code",
   "execution_count": 166,
   "metadata": {},
   "outputs": [],
   "source": [
    "benchmark = pd.read_csv(\"merge.txt\", header=None ,delim_whitespace=True)"
   ]
  },
  {
   "cell_type": "markdown",
   "metadata": {},
   "source": [
    "---"
   ]
  },
  {
   "cell_type": "markdown",
   "metadata": {},
   "source": [
    "## Inspección"
   ]
  },
  {
   "cell_type": "code",
   "execution_count": 167,
   "metadata": {},
   "outputs": [
    {
     "data": {
      "text/html": [
       "<div>\n",
       "<style scoped>\n",
       "    .dataframe tbody tr th:only-of-type {\n",
       "        vertical-align: middle;\n",
       "    }\n",
       "\n",
       "    .dataframe tbody tr th {\n",
       "        vertical-align: top;\n",
       "    }\n",
       "\n",
       "    .dataframe thead th {\n",
       "        text-align: right;\n",
       "    }\n",
       "</style>\n",
       "<table border=\"1\" class=\"dataframe\">\n",
       "  <thead>\n",
       "    <tr style=\"text-align: right;\">\n",
       "      <th></th>\n",
       "      <th>0</th>\n",
       "      <th>1</th>\n",
       "      <th>2</th>\n",
       "      <th>3</th>\n",
       "      <th>4</th>\n",
       "      <th>5</th>\n",
       "      <th>6</th>\n",
       "      <th>7</th>\n",
       "      <th>8</th>\n",
       "      <th>9</th>\n",
       "      <th>10</th>\n",
       "      <th>11</th>\n",
       "      <th>12</th>\n",
       "      <th>13</th>\n",
       "      <th>14</th>\n",
       "      <th>15</th>\n",
       "      <th>16</th>\n",
       "    </tr>\n",
       "  </thead>\n",
       "  <tbody>\n",
       "    <tr>\n",
       "      <th>0</th>\n",
       "      <td>1</td>\n",
       "      <td>inputs/1.txt</td>\n",
       "      <td>clear_cache=no</td>\n",
       "      <td>src/mult/mmult_asm.S</td>\n",
       "      <td>--I1=32768,4,32</td>\n",
       "      <td>--D1=32768,1,32</td>\n",
       "      <td>57</td>\n",
       "      <td>7</td>\n",
       "      <td>7</td>\n",
       "      <td>3</td>\n",
       "      <td>0</td>\n",
       "      <td>0</td>\n",
       "      <td>7</td>\n",
       "      <td>0</td>\n",
       "      <td>0</td>\n",
       "      <td>events</td>\n",
       "      <td>annotated</td>\n",
       "    </tr>\n",
       "    <tr>\n",
       "      <th>1</th>\n",
       "      <td>2</td>\n",
       "      <td>inputs/2.txt</td>\n",
       "      <td>clear_cache=no</td>\n",
       "      <td>src/mult/mmult_asm.S</td>\n",
       "      <td>--I1=32768,4,32</td>\n",
       "      <td>--D1=32768,1,32</td>\n",
       "      <td>222</td>\n",
       "      <td>7</td>\n",
       "      <td>7</td>\n",
       "      <td>17</td>\n",
       "      <td>0</td>\n",
       "      <td>0</td>\n",
       "      <td>10</td>\n",
       "      <td>0</td>\n",
       "      <td>0</td>\n",
       "      <td>events</td>\n",
       "      <td>annotated</td>\n",
       "    </tr>\n",
       "    <tr>\n",
       "      <th>2</th>\n",
       "      <td>3</td>\n",
       "      <td>inputs/3.txt</td>\n",
       "      <td>clear_cache=no</td>\n",
       "      <td>src/mult/mmult_asm.S</td>\n",
       "      <td>--I1=32768,4,32</td>\n",
       "      <td>--D1=32768,1,32</td>\n",
       "      <td>609</td>\n",
       "      <td>7</td>\n",
       "      <td>7</td>\n",
       "      <td>55</td>\n",
       "      <td>0</td>\n",
       "      <td>0</td>\n",
       "      <td>15</td>\n",
       "      <td>0</td>\n",
       "      <td>0</td>\n",
       "      <td>events</td>\n",
       "      <td>annotated</td>\n",
       "    </tr>\n",
       "  </tbody>\n",
       "</table>\n",
       "</div>"
      ],
      "text/plain": [
       "   0             1               2                     3                4   \\\n",
       "0   1  inputs/1.txt  clear_cache=no  src/mult/mmult_asm.S  --I1=32768,4,32   \n",
       "1   2  inputs/2.txt  clear_cache=no  src/mult/mmult_asm.S  --I1=32768,4,32   \n",
       "2   3  inputs/3.txt  clear_cache=no  src/mult/mmult_asm.S  --I1=32768,4,32   \n",
       "\n",
       "                5    6   7   8   9  10 11  12 13 14      15         16  \n",
       "0  --D1=32768,1,32   57   7   7   3  0  0   7  0  0  events  annotated  \n",
       "1  --D1=32768,1,32  222   7   7  17  0  0  10  0  0  events  annotated  \n",
       "2  --D1=32768,1,32  609   7   7  55  0  0  15  0  0  events  annotated  "
      ]
     },
     "execution_count": 167,
     "metadata": {},
     "output_type": "execute_result"
    }
   ],
   "source": [
    "benchmark.head(3)"
   ]
  },
  {
   "cell_type": "markdown",
   "metadata": {},
   "source": [
    "### Elimino columnas no relevantes"
   ]
  },
  {
   "cell_type": "code",
   "execution_count": 168,
   "metadata": {},
   "outputs": [],
   "source": [
    "benchmark.drop(columns=[1, 4, 6, 7, 8, 11, 12, 13, 14, 15, 16], inplace=True)"
   ]
  },
  {
   "cell_type": "code",
   "execution_count": 169,
   "metadata": {},
   "outputs": [
    {
     "data": {
      "text/html": [
       "<div>\n",
       "<style scoped>\n",
       "    .dataframe tbody tr th:only-of-type {\n",
       "        vertical-align: middle;\n",
       "    }\n",
       "\n",
       "    .dataframe tbody tr th {\n",
       "        vertical-align: top;\n",
       "    }\n",
       "\n",
       "    .dataframe thead th {\n",
       "        text-align: right;\n",
       "    }\n",
       "</style>\n",
       "<table border=\"1\" class=\"dataframe\">\n",
       "  <thead>\n",
       "    <tr style=\"text-align: right;\">\n",
       "      <th></th>\n",
       "      <th>0</th>\n",
       "      <th>2</th>\n",
       "      <th>3</th>\n",
       "      <th>5</th>\n",
       "      <th>9</th>\n",
       "      <th>10</th>\n",
       "    </tr>\n",
       "  </thead>\n",
       "  <tbody>\n",
       "    <tr>\n",
       "      <th>0</th>\n",
       "      <td>1</td>\n",
       "      <td>clear_cache=no</td>\n",
       "      <td>src/mult/mmult_asm.S</td>\n",
       "      <td>--D1=32768,1,32</td>\n",
       "      <td>3</td>\n",
       "      <td>0</td>\n",
       "    </tr>\n",
       "    <tr>\n",
       "      <th>1</th>\n",
       "      <td>2</td>\n",
       "      <td>clear_cache=no</td>\n",
       "      <td>src/mult/mmult_asm.S</td>\n",
       "      <td>--D1=32768,1,32</td>\n",
       "      <td>17</td>\n",
       "      <td>0</td>\n",
       "    </tr>\n",
       "    <tr>\n",
       "      <th>2</th>\n",
       "      <td>3</td>\n",
       "      <td>clear_cache=no</td>\n",
       "      <td>src/mult/mmult_asm.S</td>\n",
       "      <td>--D1=32768,1,32</td>\n",
       "      <td>55</td>\n",
       "      <td>0</td>\n",
       "    </tr>\n",
       "  </tbody>\n",
       "</table>\n",
       "</div>"
      ],
      "text/plain": [
       "   0               2                     3                5   9  10\n",
       "0   1  clear_cache=no  src/mult/mmult_asm.S  --D1=32768,1,32   3  0\n",
       "1   2  clear_cache=no  src/mult/mmult_asm.S  --D1=32768,1,32  17  0\n",
       "2   3  clear_cache=no  src/mult/mmult_asm.S  --D1=32768,1,32  55  0"
      ]
     },
     "execution_count": 169,
     "metadata": {},
     "output_type": "execute_result"
    }
   ],
   "source": [
    "benchmark.head(3)"
   ]
  },
  {
   "cell_type": "markdown",
   "metadata": {},
   "source": [
    "### Asigno nombres de columnas"
   ]
  },
  {
   "cell_type": "code",
   "execution_count": 170,
   "metadata": {},
   "outputs": [],
   "source": [
    "benchmark.columns = [\"dimension\", \"clear_cache\", \"funcion\", \"asociatividad\",\n",
    "                     \"Dr\", \"D1mr\"]"
   ]
  },
  {
   "cell_type": "markdown",
   "metadata": {},
   "source": [
    "### Reemplazo valores"
   ]
  },
  {
   "cell_type": "code",
   "execution_count": 171,
   "metadata": {},
   "outputs": [],
   "source": [
    "benchmark[\"clear_cache\"] = benchmark[\"clear_cache\"].map(es_clear_cache)\n",
    "benchmark[\"funcion\"] = benchmark[\"funcion\"].map(algoritmo_utilizado)\n",
    "benchmark[\"asociatividad\"] = benchmark[\"asociatividad\"].map(asociatividad)"
   ]
  },
  {
   "cell_type": "markdown",
   "metadata": {},
   "source": [
    "### Convierto a número"
   ]
  },
  {
   "cell_type": "code",
   "execution_count": 172,
   "metadata": {},
   "outputs": [],
   "source": [
    "for columna in [\"Dr\", \"D1mr\"]:\n",
    "    benchmark[columna] = pd.to_numeric(benchmark[columna].map(quitar_coma))"
   ]
  },
  {
   "cell_type": "code",
   "execution_count": 173,
   "metadata": {},
   "outputs": [
    {
     "data": {
      "text/html": [
       "<div>\n",
       "<style scoped>\n",
       "    .dataframe tbody tr th:only-of-type {\n",
       "        vertical-align: middle;\n",
       "    }\n",
       "\n",
       "    .dataframe tbody tr th {\n",
       "        vertical-align: top;\n",
       "    }\n",
       "\n",
       "    .dataframe thead th {\n",
       "        text-align: right;\n",
       "    }\n",
       "</style>\n",
       "<table border=\"1\" class=\"dataframe\">\n",
       "  <thead>\n",
       "    <tr style=\"text-align: right;\">\n",
       "      <th></th>\n",
       "      <th>dimension</th>\n",
       "      <th>clear_cache</th>\n",
       "      <th>funcion</th>\n",
       "      <th>asociatividad</th>\n",
       "      <th>Dr</th>\n",
       "      <th>D1mr</th>\n",
       "    </tr>\n",
       "  </thead>\n",
       "  <tbody>\n",
       "    <tr>\n",
       "      <th>0</th>\n",
       "      <td>1</td>\n",
       "      <td>False</td>\n",
       "      <td>mmult_asm</td>\n",
       "      <td>0</td>\n",
       "      <td>3</td>\n",
       "      <td>0</td>\n",
       "    </tr>\n",
       "    <tr>\n",
       "      <th>1</th>\n",
       "      <td>2</td>\n",
       "      <td>False</td>\n",
       "      <td>mmult_asm</td>\n",
       "      <td>0</td>\n",
       "      <td>17</td>\n",
       "      <td>0</td>\n",
       "    </tr>\n",
       "    <tr>\n",
       "      <th>2</th>\n",
       "      <td>3</td>\n",
       "      <td>False</td>\n",
       "      <td>mmult_asm</td>\n",
       "      <td>0</td>\n",
       "      <td>55</td>\n",
       "      <td>0</td>\n",
       "    </tr>\n",
       "  </tbody>\n",
       "</table>\n",
       "</div>"
      ],
      "text/plain": [
       "   dimension  clear_cache    funcion  asociatividad  Dr  D1mr\n",
       "0          1        False  mmult_asm              0   3     0\n",
       "1          2        False  mmult_asm              0  17     0\n",
       "2          3        False  mmult_asm              0  55     0"
      ]
     },
     "execution_count": 173,
     "metadata": {},
     "output_type": "execute_result"
    }
   ],
   "source": [
    "benchmark.head(3)"
   ]
  },
  {
   "cell_type": "markdown",
   "metadata": {},
   "source": [
    "---"
   ]
  },
  {
   "cell_type": "markdown",
   "metadata": {},
   "source": [
    "# Calculo missrates"
   ]
  },
  {
   "cell_type": "code",
   "execution_count": 174,
   "metadata": {},
   "outputs": [],
   "source": [
    "benchmark[\"miss_rate\"] = benchmark[\"D1mr\"] / benchmark[\"Dr\"]"
   ]
  },
  {
   "cell_type": "code",
   "execution_count": 175,
   "metadata": {},
   "outputs": [
    {
     "data": {
      "text/html": [
       "<div>\n",
       "<style scoped>\n",
       "    .dataframe tbody tr th:only-of-type {\n",
       "        vertical-align: middle;\n",
       "    }\n",
       "\n",
       "    .dataframe tbody tr th {\n",
       "        vertical-align: top;\n",
       "    }\n",
       "\n",
       "    .dataframe thead th {\n",
       "        text-align: right;\n",
       "    }\n",
       "</style>\n",
       "<table border=\"1\" class=\"dataframe\">\n",
       "  <thead>\n",
       "    <tr style=\"text-align: right;\">\n",
       "      <th></th>\n",
       "      <th>dimension</th>\n",
       "      <th>clear_cache</th>\n",
       "      <th>funcion</th>\n",
       "      <th>asociatividad</th>\n",
       "      <th>Dr</th>\n",
       "      <th>D1mr</th>\n",
       "      <th>miss_rate</th>\n",
       "    </tr>\n",
       "  </thead>\n",
       "  <tbody>\n",
       "    <tr>\n",
       "      <th>0</th>\n",
       "      <td>1</td>\n",
       "      <td>False</td>\n",
       "      <td>mmult_asm</td>\n",
       "      <td>0</td>\n",
       "      <td>3</td>\n",
       "      <td>0</td>\n",
       "      <td>0.0</td>\n",
       "    </tr>\n",
       "    <tr>\n",
       "      <th>1</th>\n",
       "      <td>2</td>\n",
       "      <td>False</td>\n",
       "      <td>mmult_asm</td>\n",
       "      <td>0</td>\n",
       "      <td>17</td>\n",
       "      <td>0</td>\n",
       "      <td>0.0</td>\n",
       "    </tr>\n",
       "  </tbody>\n",
       "</table>\n",
       "</div>"
      ],
      "text/plain": [
       "   dimension  clear_cache    funcion  asociatividad  Dr  D1mr  miss_rate\n",
       "0          1        False  mmult_asm              0   3     0        0.0\n",
       "1          2        False  mmult_asm              0  17     0        0.0"
      ]
     },
     "execution_count": 175,
     "metadata": {},
     "output_type": "execute_result"
    }
   ],
   "source": [
    "benchmark.head(2)"
   ]
  },
  {
   "cell_type": "markdown",
   "metadata": {},
   "source": [
    "---"
   ]
  },
  {
   "cell_type": "markdown",
   "metadata": {},
   "source": [
    "# Ploteo"
   ]
  },
  {
   "cell_type": "code",
   "execution_count": 323,
   "metadata": {},
   "outputs": [],
   "source": [
    "for funcion in [\"mmult_asm\", \"mmult_c\"]:\n",
    "    for clear_cache in [True, False]:\n",
    "        for asociatividad in [0, 2, 4, 1024]:\n",
    "            loc = benchmark.loc[(benchmark[\"funcion\"] == funcion) & (benchmark[\"clear_cache\"] == clear_cache) & (benchmark[\"asociatividad\"] == asociatividad)]\n",
    "            fig = plt.figure(figsize=(10, 6))\n",
    "            ax = sns.lineplot(x=loc[\"dimension\"], y=loc[\"miss_rate\"], color=\"g\")\n",
    "            ax.legend(loc='upper left', labels=[\"Miss rate\"])\n",
    "            ax2 = plt.twinx()\n",
    "            sns.lineplot(ax=ax2, x=loc[\"dimension\"], y=loc[\"D1mr\"])\n",
    "            ax2.legend(loc='upper right', labels=['Miss count'])            \n",
    "            label = \"Funcion: {}, Clear_cache={}, Asociatividad={}\".format(funcion, str(clear_cache), asociatividad)\n",
    "            plt.title(label=label)\n",
    "            plt.savefig(\"figures/{}_{}_{}.png\".format(funcion, str(clear_cache), asociatividad))\n",
    "            plt.close(fig)\n",
    "            "
   ]
  },
  {
   "cell_type": "markdown",
   "metadata": {},
   "source": [
    "### Ploteo la cantidad de accesos"
   ]
  },
  {
   "cell_type": "code",
   "execution_count": 326,
   "metadata": {},
   "outputs": [],
   "source": [
    "accesos = benchmark.loc[(benchmark[\"funcion\"] == \"mmult_asm\") & (benchmark[\"clear_cache\"] == True) & (benchmark[\"asociatividad\"] == 0)]\n",
    "fig = plt.figure(figsize=(10, 6))\n",
    "ax = sns.lineplot(x=accesos[\"dimension\"], y=accesos[\"Dr\"], color=\"orange\")\n",
    "plt.title(label=\"Cantidad de accesos a memoria según la dimensión\")\n",
    "plt.savefig(\"figures/accesos.png\")\n",
    "plt.close(fig)"
   ]
  },
  {
   "cell_type": "markdown",
   "metadata": {},
   "source": [
    "---"
   ]
  },
  {
   "cell_type": "markdown",
   "metadata": {},
   "source": [
    "# Cálculo Teórico"
   ]
  },
  {
   "cell_type": "markdown",
   "metadata": {},
   "source": [
    "### Carga de datos"
   ]
  },
  {
   "cell_type": "code",
   "execution_count": 313,
   "metadata": {},
   "outputs": [],
   "source": [
    "DM = pd.read_csv(\"DM.csv\", header=None)\n",
    "TWO_WAY = pd.read_csv(\"2WAY.csv\", header=None)\n",
    "FOUR_WAY = pd.read_csv(\"4WAY.csv\", header=None)\n",
    "todos = [DM, TWO_WAY, FOUR_WAY]"
   ]
  },
  {
   "cell_type": "markdown",
   "metadata": {},
   "source": [
    "### Nombro columnas y calculo missrate"
   ]
  },
  {
   "cell_type": "code",
   "execution_count": 314,
   "metadata": {},
   "outputs": [],
   "source": [
    "for asociatividad in todos:\n",
    "    asociatividad.columns = [\"dimension\", \"asociatividad\", \"hits\", \"misses\"]\n",
    "    asociatividad[\"accesos\"] = asociatividad[\"hits\"] + asociatividad[\"misses\"]\n",
    "    asociatividad[\"miss_rate\"] = asociatividad[\"misses\"] / asociatividad[\"accesos\"]"
   ]
  },
  {
   "cell_type": "markdown",
   "metadata": {},
   "source": [
    "### Mapeo Directo"
   ]
  },
  {
   "cell_type": "code",
   "execution_count": 320,
   "metadata": {},
   "outputs": [],
   "source": [
    "nombres = [\"Mapeo Directo\", \"2-Way Associative\", \"4-Way Associative\"]\n",
    "i = 0\n",
    "for asociatividad in todos:\n",
    "    medias = asociatividad.groupby(\"dimension\")[\"miss_rate\"].agg(\"mean\")\n",
    "    medias = medias.to_frame().reset_index()\n",
    "    f, ax = plt.subplots(figsize=(10, 7))\n",
    "    sns.despine(bottom=True, left=True)\n",
    "    sns.stripplot(x=\"dimension\", y=\"miss_rate\", data=asociatividad, alpha=.25, zorder=1)\n",
    "    sns.pointplot(x=\"dimension\", y=\"miss_rate\", data=asociatividad, dodge=.532, join=False, palette=\"dark\",\n",
    "              markers=\"d\", scale=.75, ci=None)\n",
    "    sns.lineplot(x=[0, 1, 2, 3, 4, 5, 6, 7], y=\"miss_rate\", data=medias)\n",
    "    plt.title(label=\"Distribución de Miss rate para caché {}\".format(nombres[i]))\n",
    "    plt.savefig(\"figures/{}.png\".format(nombres[i]))\n",
    "    plt.close(f)\n",
    "    i +=1"
   ]
  },
  {
   "cell_type": "markdown",
   "metadata": {},
   "source": [
    "---"
   ]
  }
 ],
 "metadata": {
  "kernelspec": {
   "display_name": "Python 3",
   "language": "python",
   "name": "python3"
  },
  "language_info": {
   "codemirror_mode": {
    "name": "ipython",
    "version": 3
   },
   "file_extension": ".py",
   "mimetype": "text/x-python",
   "name": "python",
   "nbconvert_exporter": "python",
   "pygments_lexer": "ipython3",
   "version": "3.8.5"
  }
 },
 "nbformat": 4,
 "nbformat_minor": 4
}
